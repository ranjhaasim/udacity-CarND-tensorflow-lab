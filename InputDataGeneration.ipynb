{
 "cells": [
  {
   "cell_type": "code",
   "execution_count": 238,
   "metadata": {
    "collapsed": false
   },
   "outputs": [
    {
     "name": "stdout",
     "output_type": "stream",
     "text": [
      "All modules imported.\n"
     ]
    }
   ],
   "source": [
    "import hashlib\n",
    "import os\n",
    "import pickle\n",
    "from urllib.request import urlretrieve\n",
    "\n",
    "import numpy as np\n",
    "from PIL import Image\n",
    "from sklearn.model_selection import train_test_split\n",
    "from sklearn.preprocessing import LabelBinarizer, StandardScaler, scale\n",
    "from sklearn.utils import resample\n",
    "from skimage import transform as sktf\n",
    "from skimage import exposure\n",
    "from skimage.color import rgb2gray\n",
    "from tqdm import tqdm\n",
    "from zipfile import ZipFile\n",
    "import matplotlib.pyplot as plt\n",
    "import tensorflow as tf\n",
    "from scipy import linalg\n",
    "from sys import getsizeof\n",
    "import random\n",
    "import csv\n",
    "import math\n",
    "import logging\n",
    "\n",
    "\n",
    "session = tf.InteractiveSession()\n",
    "\n",
    "from keras.preprocessing.image import ImageDataGenerator, array_to_img, img_to_array, load_img\n",
    "\n",
    "%matplotlib inline\n",
    "print('All modules imported.')"
   ]
  },
  {
   "cell_type": "code",
   "execution_count": 248,
   "metadata": {
    "collapsed": false
   },
   "outputs": [],
   "source": [
    "datagen = ImageDataGenerator(\n",
    "    featurewise_center=False,  # set input mean to 0 over the dataset\n",
    "    samplewise_center=True,  # set each sample mean to 0\n",
    "    featurewise_std_normalization=False,  # divide inputs by std of the dataset\n",
    "    samplewise_std_normalization=True,  # divide each input by its std\n",
    "    zca_whitening=False,  # apply ZCA whitening\n",
    "    rotation_range=0,  # randomly rotate images in the range (degrees, 0 to 180)\n",
    "    width_shift_range=0.1,  # randomly shift images horizontally (fraction of total width)\n",
    "    height_shift_range=0.1,  # randomly shift images vertically (fraction of total height)\n",
    "    horizontal_flip=False,  # randomly flip images\n",
    "    vertical_flip=False)  # randomly flip images\n",
    "\n",
    "testgen = ImageDataGenerator(\n",
    "    featurewise_center=False,  # set input mean to 0 over the dataset\n",
    "    samplewise_center=True,  # set each sample mean to 0\n",
    "    featurewise_std_normalization=False,  # divide inputs by std of the dataset\n",
    "    samplewise_std_normalization=True,  # divide each input by its std\n",
    "    zca_whitening=False,  # apply ZCA whitening\n",
    "    rotation_range=0,  # randomly rotate images in the range (degrees, 0 to 180)\n",
    "    width_shift_range=0,  # randomly shift images horizontally (fraction of total width)\n",
    "    height_shift_range=0,  # randomly shift images vertically (fraction of total height)\n",
    "    horizontal_flip=False,  # randomly flip images\n",
    "    vertical_flip=False,\n",
    "    rescale=1/255)  # randomly flip images"
   ]
  },
  {
   "cell_type": "code",
   "execution_count": 249,
   "metadata": {
    "collapsed": false
   },
   "outputs": [
    {
     "name": "stderr",
     "output_type": "stream",
     "text": [
      "INFO:root:hello\n"
     ]
    }
   ],
   "source": [
    "logging.info('hello')"
   ]
  },
  {
   "cell_type": "code",
   "execution_count": 328,
   "metadata": {
    "collapsed": false
   },
   "outputs": [],
   "source": [
    "def applyTransformation(image):\n",
    "    \n",
    "    distorted = tf.image.random_brightness(image, max_delta=63)\n",
    "    distorted = tf.image.random_contrast(distorted,\n",
    "                                                 lower=0.2, upper=1.8)\n",
    "    \n",
    "    return distorted\n",
    "\n",
    "# function for reading the images\n",
    "# arguments: path to the traffic sign data, for example './GTSRB/Training'\n",
    "# returns: list of images, list of corresponding labels \n",
    "def readTrafficSigns(rootpath, n, augment=False, testset=False, num_augment=5):\n",
    "    '''Reads traffic sign data for German Traffic Sign Recognition Benchmark.\n",
    "\n",
    "    Arguments: path to the traffic sign data, for example './GTSRB/Training'\n",
    "    Returns:   list of images, list of corresponding labels'''\n",
    "    images = [] # images\n",
    "    labels = [] # corresponding labels\n",
    "    coords = []\n",
    "    num_samples_needed = 500\n",
    "    \n",
    "    # loop over all 43 classes\n",
    "    for c in range(0, n):\n",
    "        prefix = rootpath + '/' + format(c, '05d') + '/' # subdirectory for class\n",
    "        print (\"Processing \", prefix)\n",
    "        gtFile = open(prefix + 'GT-'+ format(c, '05d') + '.csv') # annotations file\n",
    "        gtReader = csv.reader(gtFile, delimiter=';') # csv parser for annotations file\n",
    "        gtReader.__next__() # skip header\n",
    "        if (not testset and not augment):\n",
    "            reader = list(gtReader)\n",
    "            # loop over all images in current annotations file\n",
    "            num_samples_available = len(reader)\n",
    "            num_augment = math.ceil(num_samples_needed/num_samples_available)\n",
    "            gtFile.seek(0)\n",
    "            gtReader = csv.reader(gtFile, delimiter=';') # csv parser for annotations file\n",
    "            gtReader.__next__() # skip header\n",
    "\n",
    "        iindex = 0\n",
    "        for row in gtReader:\n",
    "            \n",
    "            image = plt.imread(prefix + row[0])\n",
    "            if (not testset):\n",
    "                label = row[7]\n",
    "                labels.append(int(label)) # for one-hot encoding, conver to decimal to get correct coding.\n",
    "            else:\n",
    "                label = \"-1\"\n",
    "                #labels.append(label) # the 8th column is the label\n",
    "            coord = [row[3], row[4], row[5], row[6]]\n",
    "            coords.append(coord)\n",
    "            # crop and store the image.\n",
    "            img = image[int(coord[0]):int(coord[2]),int(coord[1]):int(coord[3]),:]\n",
    "            # resize to block above\n",
    "            img.resize()\n",
    "            # resize to 32x32x3, nearest neighbor interpolation\n",
    "            #cropped = sktf.resize(img, (32,32,3), 1)\n",
    "            #intense = exposure.equalize_hist(scaled)\n",
    "            images.append(sktf.resize(img, (32, 32)))\n",
    "            iindex += 1\n",
    "            cropped = img\n",
    "            \n",
    "            if (augment):\n",
    "                # generate a bunch of other images to augment the dataset by applying\n",
    "                # affine transformations\n",
    "                # reshape image for transfomration\n",
    "                cropped = cropped.reshape((1,) + cropped.shape) \n",
    "                \n",
    "                i = 0\n",
    "                for batch, y in datagen.flow(cropped, np.array([label]), batch_size=1):\n",
    "                    \n",
    "                    iindex += 1\n",
    "                    i += 1\n",
    "                    images.append(sktf.resize(batch[0], (32, 32, 3), 3))\n",
    "                    if (not testset):\n",
    "                        labels.append(y[0])\n",
    "                    else:\n",
    "                        labels.append(sktf.resize(img, (32, 32, 3), 3))\n",
    "                    \n",
    "                    if (not testset):\n",
    "                        if (iindex == num_samples_needed):\n",
    "                            break\n",
    "                        \n",
    "                    if (i >= num_augment): \n",
    "                        break\n",
    "                        \n",
    "        print (\"Processed {num_images} images\".format(num_images=iindex))\n",
    "        gtFile.close()\n",
    "        \n",
    "    return images, labels, coords"
   ]
  },
  {
   "cell_type": "code",
   "execution_count": 365,
   "metadata": {
    "collapsed": true
   },
   "outputs": [],
   "source": [
    "def display_images_and_labels(images, labels):\n",
    "    \"\"\"Display the first image of each label.\"\"\"\n",
    "    unique_labels = set(labels)\n",
    "    plt.figure(figsize=(15, 15))\n",
    "    i = 1\n",
    "    for label in unique_labels:\n",
    "        # Pick the first image for each label.\n",
    "        image = images[labels.index(label)]\n",
    "        plt.subplot(8, 8, i)  # A grid of 8 rows x 8 columns\n",
    "        plt.axis('off')\n",
    "        plt.title(\"Label {0} ({1})\".format(label, labels.count(label)))\n",
    "        i += 1\n",
    "        _ = plt.imshow(image)\n",
    "    plt.show()"
   ]
  },
  {
   "cell_type": "code",
   "execution_count": 360,
   "metadata": {
    "collapsed": false
   },
   "outputs": [
    {
     "name": "stdout",
     "output_type": "stream",
     "text": [
      "Processing  /Data/Data1/dl/udacity/traffic-signs/train/GTSRB/Final_Training/Images/00000/\n",
      "Processed 210 images\n"
     ]
    }
   ],
   "source": [
    "images, labels, coords = readTrafficSigns(\"/Data/Data1/dl/udacity/traffic-signs/train/GTSRB/Final_Training/Images\", 1, augment=False, num_augment=1)"
   ]
  },
  {
   "cell_type": "code",
   "execution_count": 361,
   "metadata": {
    "collapsed": false
   },
   "outputs": [
    {
     "name": "stdout",
     "output_type": "stream",
     "text": [
      "Unique Labels: 1\n",
      "Total Images: 210\n"
     ]
    }
   ],
   "source": [
    "print(\"Unique Labels: {0}\\nTotal Images: {1}\".format(len(set(labels)), len(images)))"
   ]
  },
  {
   "cell_type": "code",
   "execution_count": 362,
   "metadata": {
    "collapsed": false
   },
   "outputs": [
    {
     "data": {
      "image/png": "[encoded data removed]",
      "text/plain": [
       "<matplotlib.figure.Figure at 0x7f6d15bc0908>"
      ]
     },
     "metadata": {},
     "output_type": "display_data"
    }
   ],
   "source": [
    "display_images_and_labels(images, labels)"
   ]
  },
  {
   "cell_type": "code",
   "execution_count": 333,
   "metadata": {
    "collapsed": true
   },
   "outputs": [],
   "source": [
    "imgs = np.array(images)\n",
    "lbls = np.array(labels)"
   ]
  },
  {
   "cell_type": "code",
   "execution_count": 334,
   "metadata": {
    "collapsed": false
   },
   "outputs": [
    {
     "name": "stdout",
     "output_type": "stream",
     "text": [
      "labels:  (39209,) \n",
      "images:  (39209, 32, 32, 3)\n"
     ]
    }
   ],
   "source": [
    "print(\"labels: \", lbls.shape, \"\\nimages: \", imgs.shape)"
   ]
  },
  {
   "cell_type": "code",
   "execution_count": 335,
   "metadata": {
    "collapsed": true
   },
   "outputs": [],
   "source": [
    "class InputDataPreProcessor(object):\n",
    "    \n",
    "    def __init__(self, rescale=None):\n",
    "        \n",
    "        self.mean = None\n",
    "        self.stddev = None\n",
    "        self.zca_whitening = None\n",
    "        self.rescale = rescale\n",
    "        \n",
    "        self.train_batch_index = []\n",
    "        self.validate_batch_index = []\n",
    "\n",
    "        self.train_batch = None\n",
    "        self.validate_batch = None\n",
    "\n",
    "        self.train_batch_pointer = 0\n",
    "        self.validate_batch_pointer = 0\n",
    " \n",
    " \n",
    "    '''\n",
    "        Generates batches of batch size from the array of images provided.\n",
    "    '''\n",
    "    def generate_batches(self, features, labels, batch_size=512, batch_type=None):\n",
    "    \n",
    "        assert batch_type is not None, 'Please provide a string for batch type, one of train, validate or test'\n",
    "\n",
    "        fl = len(features)\n",
    "\n",
    "        print (\"Generating batches for {num_items} items, please wait...\".format(num_items=fl))\n",
    "\n",
    "        n = 0\n",
    "        label_set = None\n",
    "    \n",
    "        for i in range(0, fl, batch_size):\n",
    "            print (i, ':', batch_size*n)\n",
    "            n+=1\n",
    "\n",
    "            feature_set = features[i:batch_size*n]\n",
    "            label_set = labels[i:batch_size*n]\n",
    "\n",
    "            self.save_batch(feature_set, label_set, batch_type+\"/batch_\"+str(i))\n",
    "\n",
    "\n",
    "\n",
    "        print (\"{num_batches} batches generated and saved.\".format(num_batches=n))\n",
    "        \n",
    "    '''\n",
    "        Saves a single batch in the path specified.\n",
    "    '''\n",
    "    def save_batch(self, features, labels, path):\n",
    "\n",
    "        if not os.path.isfile(path):\n",
    "\n",
    "            print('Saving batch to pickle file...')\n",
    "\n",
    "            try:\n",
    "                with open(path, 'wb') as pfile:\n",
    "                    pickle.dump(\n",
    "                        {\n",
    "                            'features': features,\n",
    "                            'labels': labels,\n",
    "                        },\n",
    "                        pfile, pickle.HIGHEST_PROTOCOL)\n",
    "            except Exception as e:\n",
    "                print('Unable to save data to', path, ':', e)\n",
    "                raise\n",
    "                \n",
    "                \n",
    "            print ('Batch saved in pickle file {file_name}'.format(file_name=path))\n",
    "    \n",
    "    '''\n",
    "        Get randomized datasets for training and validation\n",
    "\n",
    "    '''\n",
    "    \n",
    "    def generate_training_validate_split(self, features, labels, test_split_perc=0.2):\n",
    "    \n",
    "        training_features, valid_features, training_labels, valid_labels = train_test_split(\n",
    "            features,\n",
    "            labels,\n",
    "            test_size=test_split_perc,\n",
    "            random_state=0)\n",
    "\n",
    "        print('Training features and labels randomized and split.')\n",
    "        \n",
    "        return training_features, valid_features, training_labels, valid_labels\n",
    "    \n",
    "    \n",
    "    '''\n",
    "        Generates one-hot encoding of labels\n",
    "    '''\n",
    "    def generate_one_hot_encoding(self, labels):\n",
    "\n",
    "        # Turn labels into numbers and apply One-Hot Encoding\n",
    "        encoder = LabelBinarizer()\n",
    "        encoder.fit(labels)\n",
    "        train_labels = encoder.transform(labels)\n",
    "\n",
    "        # Change to float32, so it can be multiplied against the features in TensorFlow, which are float32\n",
    "        train_labels = train_labels.astype(np.float32)\n",
    "        \n",
    "        return train_labels"
   ]
  },
  {
   "cell_type": "code",
   "execution_count": 336,
   "metadata": {
    "collapsed": false
   },
   "outputs": [],
   "source": [
    "ibp = InputDataPreProcessor()"
   ]
  },
  {
   "cell_type": "code",
   "execution_count": 344,
   "metadata": {
    "collapsed": false
   },
   "outputs": [
    {
     "name": "stdout",
     "output_type": "stream",
     "text": [
      "(39209, 43)\n",
      "<class 'int'> 39209\n"
     ]
    }
   ],
   "source": [
    "onehot_labels = ibp.generate_one_hot_encoding(labels)\n",
    "print (onehot_labels.shape)\n",
    "print (type(labels[0]), len(labels))"
   ]
  },
  {
   "cell_type": "code",
   "execution_count": 319,
   "metadata": {
    "collapsed": false
   },
   "outputs": [],
   "source": [
    "def binaryToDecimal(binary):\n",
    "    return"
   ]
  },
  {
   "cell_type": "code",
   "execution_count": 349,
   "metadata": {
    "collapsed": false
   },
   "outputs": [
    {
     "name": "stdout",
     "output_type": "stream",
     "text": [
      "0,[ 1.  0.  0.  0.  0.  0.  0.  0.  0.  0.  0.  0.  0.  0.  0.  0.  0.  0.\n",
      "  0.  0.  0.  0.  0.  0.  0.  0.  0.  0.  0.  0.  0.  0.  0.  0.  0.  0.\n",
      "  0.  0.  0.  0.  0.  0.  0.]\n",
      "1,[ 0.  1.  0.  0.  0.  0.  0.  0.  0.  0.  0.  0.  0.  0.  0.  0.  0.  0.\n",
      "  0.  0.  0.  0.  0.  0.  0.  0.  0.  0.  0.  0.  0.  0.  0.  0.  0.  0.\n",
      "  0.  0.  0.  0.  0.  0.  0.]\n",
      "2,[ 0.  0.  1.  0.  0.  0.  0.  0.  0.  0.  0.  0.  0.  0.  0.  0.  0.  0.\n",
      "  0.  0.  0.  0.  0.  0.  0.  0.  0.  0.  0.  0.  0.  0.  0.  0.  0.  0.\n",
      "  0.  0.  0.  0.  0.  0.  0.]\n",
      "3,[ 0.  0.  0.  1.  0.  0.  0.  0.  0.  0.  0.  0.  0.  0.  0.  0.  0.  0.\n",
      "  0.  0.  0.  0.  0.  0.  0.  0.  0.  0.  0.  0.  0.  0.  0.  0.  0.  0.\n",
      "  0.  0.  0.  0.  0.  0.  0.]\n",
      "4,[ 0.  0.  0.  0.  1.  0.  0.  0.  0.  0.  0.  0.  0.  0.  0.  0.  0.  0.\n",
      "  0.  0.  0.  0.  0.  0.  0.  0.  0.  0.  0.  0.  0.  0.  0.  0.  0.  0.\n",
      "  0.  0.  0.  0.  0.  0.  0.]\n",
      "5,[ 0.  0.  0.  0.  0.  1.  0.  0.  0.  0.  0.  0.  0.  0.  0.  0.  0.  0.\n",
      "  0.  0.  0.  0.  0.  0.  0.  0.  0.  0.  0.  0.  0.  0.  0.  0.  0.  0.\n",
      "  0.  0.  0.  0.  0.  0.  0.]\n",
      "6,[ 0.  0.  0.  0.  0.  0.  1.  0.  0.  0.  0.  0.  0.  0.  0.  0.  0.  0.\n",
      "  0.  0.  0.  0.  0.  0.  0.  0.  0.  0.  0.  0.  0.  0.  0.  0.  0.  0.\n",
      "  0.  0.  0.  0.  0.  0.  0.]\n",
      "7,[ 0.  0.  0.  0.  0.  0.  0.  1.  0.  0.  0.  0.  0.  0.  0.  0.  0.  0.\n",
      "  0.  0.  0.  0.  0.  0.  0.  0.  0.  0.  0.  0.  0.  0.  0.  0.  0.  0.\n",
      "  0.  0.  0.  0.  0.  0.  0.]\n",
      "8,[ 0.  0.  0.  0.  0.  0.  0.  0.  1.  0.  0.  0.  0.  0.  0.  0.  0.  0.\n",
      "  0.  0.  0.  0.  0.  0.  0.  0.  0.  0.  0.  0.  0.  0.  0.  0.  0.  0.\n",
      "  0.  0.  0.  0.  0.  0.  0.]\n",
      "9,[ 0.  0.  0.  0.  0.  0.  0.  0.  0.  1.  0.  0.  0.  0.  0.  0.  0.  0.\n",
      "  0.  0.  0.  0.  0.  0.  0.  0.  0.  0.  0.  0.  0.  0.  0.  0.  0.  0.\n",
      "  0.  0.  0.  0.  0.  0.  0.]\n",
      "10,[ 0.  0.  0.  0.  0.  0.  0.  0.  0.  0.  1.  0.  0.  0.  0.  0.  0.  0.\n",
      "  0.  0.  0.  0.  0.  0.  0.  0.  0.  0.  0.  0.  0.  0.  0.  0.  0.  0.\n",
      "  0.  0.  0.  0.  0.  0.  0.]\n",
      "11,[ 0.  0.  0.  0.  0.  0.  0.  0.  0.  0.  0.  1.  0.  0.  0.  0.  0.  0.\n",
      "  0.  0.  0.  0.  0.  0.  0.  0.  0.  0.  0.  0.  0.  0.  0.  0.  0.  0.\n",
      "  0.  0.  0.  0.  0.  0.  0.]\n",
      "12,[ 0.  0.  0.  0.  0.  0.  0.  0.  0.  0.  0.  0.  1.  0.  0.  0.  0.  0.\n",
      "  0.  0.  0.  0.  0.  0.  0.  0.  0.  0.  0.  0.  0.  0.  0.  0.  0.  0.\n",
      "  0.  0.  0.  0.  0.  0.  0.]\n",
      "13,[ 0.  0.  0.  0.  0.  0.  0.  0.  0.  0.  0.  0.  0.  1.  0.  0.  0.  0.\n",
      "  0.  0.  0.  0.  0.  0.  0.  0.  0.  0.  0.  0.  0.  0.  0.  0.  0.  0.\n",
      "  0.  0.  0.  0.  0.  0.  0.]\n",
      "14,[ 0.  0.  0.  0.  0.  0.  0.  0.  0.  0.  0.  0.  0.  0.  1.  0.  0.  0.\n",
      "  0.  0.  0.  0.  0.  0.  0.  0.  0.  0.  0.  0.  0.  0.  0.  0.  0.  0.\n",
      "  0.  0.  0.  0.  0.  0.  0.]\n",
      "15,[ 0.  0.  0.  0.  0.  0.  0.  0.  0.  0.  0.  0.  0.  0.  0.  1.  0.  0.\n",
      "  0.  0.  0.  0.  0.  0.  0.  0.  0.  0.  0.  0.  0.  0.  0.  0.  0.  0.\n",
      "  0.  0.  0.  0.  0.  0.  0.]\n",
      "16,[ 0.  0.  0.  0.  0.  0.  0.  0.  0.  0.  0.  0.  0.  0.  0.  0.  1.  0.\n",
      "  0.  0.  0.  0.  0.  0.  0.  0.  0.  0.  0.  0.  0.  0.  0.  0.  0.  0.\n",
      "  0.  0.  0.  0.  0.  0.  0.]\n",
      "17,[ 0.  0.  0.  0.  0.  0.  0.  0.  0.  0.  0.  0.  0.  0.  0.  0.  0.  1.\n",
      "  0.  0.  0.  0.  0.  0.  0.  0.  0.  0.  0.  0.  0.  0.  0.  0.  0.  0.\n",
      "  0.  0.  0.  0.  0.  0.  0.]\n",
      "18,[ 0.  0.  0.  0.  0.  0.  0.  0.  0.  0.  0.  0.  0.  0.  0.  0.  0.  0.\n",
      "  1.  0.  0.  0.  0.  0.  0.  0.  0.  0.  0.  0.  0.  0.  0.  0.  0.  0.\n",
      "  0.  0.  0.  0.  0.  0.  0.]\n",
      "19,[ 0.  0.  0.  0.  0.  0.  0.  0.  0.  0.  0.  0.  0.  0.  0.  0.  0.  0.\n",
      "  0.  1.  0.  0.  0.  0.  0.  0.  0.  0.  0.  0.  0.  0.  0.  0.  0.  0.\n",
      "  0.  0.  0.  0.  0.  0.  0.]\n",
      "20,[ 0.  0.  0.  0.  0.  0.  0.  0.  0.  0.  0.  0.  0.  0.  0.  0.  0.  0.\n",
      "  0.  0.  1.  0.  0.  0.  0.  0.  0.  0.  0.  0.  0.  0.  0.  0.  0.  0.\n",
      "  0.  0.  0.  0.  0.  0.  0.]\n",
      "21,[ 0.  0.  0.  0.  0.  0.  0.  0.  0.  0.  0.  0.  0.  0.  0.  0.  0.  0.\n",
      "  0.  0.  0.  1.  0.  0.  0.  0.  0.  0.  0.  0.  0.  0.  0.  0.  0.  0.\n",
      "  0.  0.  0.  0.  0.  0.  0.]\n",
      "22,[ 0.  0.  0.  0.  0.  0.  0.  0.  0.  0.  0.  0.  0.  0.  0.  0.  0.  0.\n",
      "  0.  0.  0.  0.  1.  0.  0.  0.  0.  0.  0.  0.  0.  0.  0.  0.  0.  0.\n",
      "  0.  0.  0.  0.  0.  0.  0.]\n",
      "23,[ 0.  0.  0.  0.  0.  0.  0.  0.  0.  0.  0.  0.  0.  0.  0.  0.  0.  0.\n",
      "  0.  0.  0.  0.  0.  1.  0.  0.  0.  0.  0.  0.  0.  0.  0.  0.  0.  0.\n",
      "  0.  0.  0.  0.  0.  0.  0.]\n",
      "24,[ 0.  0.  0.  0.  0.  0.  0.  0.  0.  0.  0.  0.  0.  0.  0.  0.  0.  0.\n",
      "  0.  0.  0.  0.  0.  0.  1.  0.  0.  0.  0.  0.  0.  0.  0.  0.  0.  0.\n",
      "  0.  0.  0.  0.  0.  0.  0.]\n",
      "25,[ 0.  0.  0.  0.  0.  0.  0.  0.  0.  0.  0.  0.  0.  0.  0.  0.  0.  0.\n",
      "  0.  0.  0.  0.  0.  0.  0.  1.  0.  0.  0.  0.  0.  0.  0.  0.  0.  0.\n",
      "  0.  0.  0.  0.  0.  0.  0.]\n",
      "26,[ 0.  0.  0.  0.  0.  0.  0.  0.  0.  0.  0.  0.  0.  0.  0.  0.  0.  0.\n",
      "  0.  0.  0.  0.  0.  0.  0.  0.  1.  0.  0.  0.  0.  0.  0.  0.  0.  0.\n",
      "  0.  0.  0.  0.  0.  0.  0.]\n",
      "27,[ 0.  0.  0.  0.  0.  0.  0.  0.  0.  0.  0.  0.  0.  0.  0.  0.  0.  0.\n",
      "  0.  0.  0.  0.  0.  0.  0.  0.  0.  1.  0.  0.  0.  0.  0.  0.  0.  0.\n",
      "  0.  0.  0.  0.  0.  0.  0.]\n",
      "28,[ 0.  0.  0.  0.  0.  0.  0.  0.  0.  0.  0.  0.  0.  0.  0.  0.  0.  0.\n",
      "  0.  0.  0.  0.  0.  0.  0.  0.  0.  0.  1.  0.  0.  0.  0.  0.  0.  0.\n",
      "  0.  0.  0.  0.  0.  0.  0.]\n",
      "29,[ 0.  0.  0.  0.  0.  0.  0.  0.  0.  0.  0.  0.  0.  0.  0.  0.  0.  0.\n",
      "  0.  0.  0.  0.  0.  0.  0.  0.  0.  0.  0.  1.  0.  0.  0.  0.  0.  0.\n",
      "  0.  0.  0.  0.  0.  0.  0.]\n",
      "30,[ 0.  0.  0.  0.  0.  0.  0.  0.  0.  0.  0.  0.  0.  0.  0.  0.  0.  0.\n",
      "  0.  0.  0.  0.  0.  0.  0.  0.  0.  0.  0.  0.  1.  0.  0.  0.  0.  0.\n",
      "  0.  0.  0.  0.  0.  0.  0.]\n",
      "31,[ 0.  0.  0.  0.  0.  0.  0.  0.  0.  0.  0.  0.  0.  0.  0.  0.  0.  0.\n",
      "  0.  0.  0.  0.  0.  0.  0.  0.  0.  0.  0.  0.  0.  1.  0.  0.  0.  0.\n",
      "  0.  0.  0.  0.  0.  0.  0.]\n",
      "32,[ 0.  0.  0.  0.  0.  0.  0.  0.  0.  0.  0.  0.  0.  0.  0.  0.  0.  0.\n",
      "  0.  0.  0.  0.  0.  0.  0.  0.  0.  0.  0.  0.  0.  0.  1.  0.  0.  0.\n",
      "  0.  0.  0.  0.  0.  0.  0.]\n",
      "33,[ 0.  0.  0.  0.  0.  0.  0.  0.  0.  0.  0.  0.  0.  0.  0.  0.  0.  0.\n",
      "  0.  0.  0.  0.  0.  0.  0.  0.  0.  0.  0.  0.  0.  0.  0.  1.  0.  0.\n",
      "  0.  0.  0.  0.  0.  0.  0.]\n",
      "34,[ 0.  0.  0.  0.  0.  0.  0.  0.  0.  0.  0.  0.  0.  0.  0.  0.  0.  0.\n",
      "  0.  0.  0.  0.  0.  0.  0.  0.  0.  0.  0.  0.  0.  0.  0.  0.  1.  0.\n",
      "  0.  0.  0.  0.  0.  0.  0.]\n",
      "35,[ 0.  0.  0.  0.  0.  0.  0.  0.  0.  0.  0.  0.  0.  0.  0.  0.  0.  0.\n",
      "  0.  0.  0.  0.  0.  0.  0.  0.  0.  0.  0.  0.  0.  0.  0.  0.  0.  1.\n",
      "  0.  0.  0.  0.  0.  0.  0.]\n",
      "36,[ 0.  0.  0.  0.  0.  0.  0.  0.  0.  0.  0.  0.  0.  0.  0.  0.  0.  0.\n",
      "  0.  0.  0.  0.  0.  0.  0.  0.  0.  0.  0.  0.  0.  0.  0.  0.  0.  0.\n",
      "  1.  0.  0.  0.  0.  0.  0.]\n",
      "37,[ 0.  0.  0.  0.  0.  0.  0.  0.  0.  0.  0.  0.  0.  0.  0.  0.  0.  0.\n",
      "  0.  0.  0.  0.  0.  0.  0.  0.  0.  0.  0.  0.  0.  0.  0.  0.  0.  0.\n",
      "  0.  1.  0.  0.  0.  0.  0.]\n",
      "38,[ 0.  0.  0.  0.  0.  0.  0.  0.  0.  0.  0.  0.  0.  0.  0.  0.  0.  0.\n",
      "  0.  0.  0.  0.  0.  0.  0.  0.  0.  0.  0.  0.  0.  0.  0.  0.  0.  0.\n",
      "  0.  0.  1.  0.  0.  0.  0.]\n",
      "39,[ 0.  0.  0.  0.  0.  0.  0.  0.  0.  0.  0.  0.  0.  0.  0.  0.  0.  0.\n",
      "  0.  0.  0.  0.  0.  0.  0.  0.  0.  0.  0.  0.  0.  0.  0.  0.  0.  0.\n",
      "  0.  0.  0.  1.  0.  0.  0.]\n",
      "40,[ 0.  0.  0.  0.  0.  0.  0.  0.  0.  0.  0.  0.  0.  0.  0.  0.  0.  0.\n",
      "  0.  0.  0.  0.  0.  0.  0.  0.  0.  0.  0.  0.  0.  0.  0.  0.  0.  0.\n",
      "  0.  0.  0.  0.  1.  0.  0.]\n",
      "41,[ 0.  0.  0.  0.  0.  0.  0.  0.  0.  0.  0.  0.  0.  0.  0.  0.  0.  0.\n",
      "  0.  0.  0.  0.  0.  0.  0.  0.  0.  0.  0.  0.  0.  0.  0.  0.  0.  0.\n",
      "  0.  0.  0.  0.  0.  1.  0.]\n",
      "42,[ 0.  0.  0.  0.  0.  0.  0.  0.  0.  0.  0.  0.  0.  0.  0.  0.  0.  0.\n",
      "  0.  0.  0.  0.  0.  0.  0.  0.  0.  0.  0.  0.  0.  0.  0.  0.  0.  0.\n",
      "  0.  0.  0.  0.  0.  0.  1.]\n"
     ]
    }
   ],
   "source": [
    "slbls = set(labels)\n",
    "for i in sorted(slbls):\n",
    "    print (\"{0},{1}\".format(i, onehot_labels[labels.index(i)]))\n",
    "\n"
   ]
  },
  {
   "cell_type": "code",
   "execution_count": 350,
   "metadata": {
    "collapsed": false
   },
   "outputs": [
    {
     "name": "stdout",
     "output_type": "stream",
     "text": [
      "Training features and labels randomized and split.\n"
     ]
    }
   ],
   "source": [
    "tft, vf, tl, vl = ibp.generate_training_validate_split(images, onehot_labels)"
   ]
  },
  {
   "cell_type": "code",
   "execution_count": 352,
   "metadata": {
    "collapsed": false
   },
   "outputs": [
    {
     "name": "stdout",
     "output_type": "stream",
     "text": [
      "Generating batches for 7842 items, please wait...\n",
      "0 : 0\n",
      "Saving batch to pickle file...\n",
      "Batch saved in pickle file validate0/batch_0\n",
      "4096 : 4096\n",
      "Saving batch to pickle file...\n",
      "Batch saved in pickle file validate0/batch_4096\n",
      "2 batches generated and saved.\n"
     ]
    }
   ],
   "source": [
    "ibp.generate_batches(vf, vl, batch_size=4096, batch_type='validate0')"
   ]
  },
  {
   "cell_type": "code",
   "execution_count": 353,
   "metadata": {
    "collapsed": false
   },
   "outputs": [
    {
     "name": "stdout",
     "output_type": "stream",
     "text": [
      "Generating batches for 31367 items, please wait...\n",
      "0 : 0\n",
      "Saving batch to pickle file...\n",
      "Batch saved in pickle file train0/batch_0\n",
      "4096 : 4096\n",
      "Saving batch to pickle file...\n",
      "Batch saved in pickle file train0/batch_4096\n",
      "8192 : 8192\n",
      "Saving batch to pickle file...\n",
      "Batch saved in pickle file train0/batch_8192\n",
      "12288 : 12288\n",
      "Saving batch to pickle file...\n",
      "Batch saved in pickle file train0/batch_12288\n",
      "16384 : 16384\n",
      "Saving batch to pickle file...\n",
      "Batch saved in pickle file train0/batch_16384\n",
      "20480 : 20480\n",
      "Saving batch to pickle file...\n",
      "Batch saved in pickle file train0/batch_20480\n",
      "24576 : 24576\n",
      "Saving batch to pickle file...\n",
      "Batch saved in pickle file train0/batch_24576\n",
      "28672 : 28672\n",
      "Saving batch to pickle file...\n",
      "Batch saved in pickle file train0/batch_28672\n",
      "8 batches generated and saved.\n"
     ]
    }
   ],
   "source": [
    "ibp.generate_batches(tft, tl, batch_size=4096, batch_type='train0')"
   ]
  },
  {
   "cell_type": "code",
   "execution_count": 354,
   "metadata": {
    "collapsed": true
   },
   "outputs": [],
   "source": [
    "datagen = ImageDataGenerator(\n",
    "    featurewise_center=False,  # set input mean to 0 over the dataset\n",
    "    samplewise_center=True,  # set each sample mean to 0\n",
    "    featurewise_std_normalization=False,  # divide inputs by std of the dataset\n",
    "    samplewise_std_normalization=True,  # divide each input by its std\n",
    "    zca_whitening=False,  # apply ZCA whitening\n",
    "    rotation_range=0,  # randomly rotate images in the range (degrees, 0 to 180)\n",
    "    width_shift_range=0,  # randomly shift images horizontally (fraction of total width)\n",
    "    height_shift_range=0,  # randomly shift images vertically (fraction of total height)\n",
    "    horizontal_flip=False,  # randomly flip images\n",
    "    vertical_flip=False)  # randomly flip images"
   ]
  },
  {
   "cell_type": "code",
   "execution_count": 364,
   "metadata": {
    "collapsed": false
   },
   "outputs": [
    {
     "name": "stdout",
     "output_type": "stream",
     "text": [
      "Processing  /Data/Data1/dl/udacity/traffic-signs/test/GTSRB/Final_Test/Images/00000/\n",
      "Processed 12630 images\n"
     ]
    }
   ],
   "source": [
    "test_images, test_labels, test_coords = readTrafficSigns(\"/Data/Data1/dl/udacity/traffic-signs/test/GTSRB/Final_Test/Images\", 1, augment=False, testset=True, num_augment=1)"
   ]
  },
  {
   "cell_type": "code",
   "execution_count": 366,
   "metadata": {
    "collapsed": false
   },
   "outputs": [
    {
     "data": {
      "text/plain": [
       "<matplotlib.image.AxesImage at 0x7f7333d23b70>"
      ]
     },
     "execution_count": 366,
     "metadata": {},
     "output_type": "execute_result"
    },
    {
     "data": {
      "image/png": "[encoded data removed]",
      "text/plain": [
       "<matplotlib.figure.Figure at 0x7f72de765eb8>"
      ]
     },
     "metadata": {},
     "output_type": "display_data"
    }
   ],
   "source": [
    "plt.imshow(test_images[0])"
   ]
  },
  {
   "cell_type": "code",
   "execution_count": 367,
   "metadata": {
    "collapsed": false
   },
   "outputs": [
    {
     "name": "stdout",
     "output_type": "stream",
     "text": [
      "Generating batches for 12630 items, please wait...\n",
      "0 : 0\n",
      "Saving batch to pickle file...\n",
      "Batch saved in pickle file test0/batch_0\n",
      "4096 : 4096\n",
      "Saving batch to pickle file...\n",
      "Batch saved in pickle file test0/batch_4096\n",
      "8192 : 8192\n",
      "Saving batch to pickle file...\n",
      "Batch saved in pickle file test0/batch_8192\n",
      "12288 : 12288\n",
      "Saving batch to pickle file...\n",
      "Batch saved in pickle file test0/batch_12288\n",
      "4 batches generated and saved.\n"
     ]
    }
   ],
   "source": [
    "ibp.generate_batches(test_images, test_labels, batch_size=4096, batch_type='test0')"
   ]
  },
  {
   "cell_type": "code",
   "execution_count": 126,
   "metadata": {
    "collapsed": false
   },
   "outputs": [
    {
     "name": "stdout",
     "output_type": "stream",
     "text": [
      "Processing  /Data/Data1/dl/udacity/traffic-signs/train/GTSRB/Final_Training/Images/00000/\n",
      "Processed 210 images\n",
      "Processing  /Data/Data1/dl/udacity/traffic-signs/train/GTSRB/Final_Training/Images/00001/\n",
      "Processed 2220 images\n",
      "Processing  /Data/Data1/dl/udacity/traffic-signs/train/GTSRB/Final_Training/Images/00002/\n",
      "Processed 2250 images\n",
      "Processing  /Data/Data1/dl/udacity/traffic-signs/train/GTSRB/Final_Training/Images/00003/\n",
      "Processed 1410 images\n",
      "Processing  /Data/Data1/dl/udacity/traffic-signs/train/GTSRB/Final_Training/Images/00004/\n",
      "Processed 1980 images\n"
     ]
    }
   ],
   "source": [
    "images, labels, coords = readTrafficSigns(\"/Data/Data1/dl/udacity/traffic-signs/train/GTSRB/Final_Training/Images\", 5, augment=True, testset=True, num_augment=1)"
   ]
  },
  {
   "cell_type": "code",
   "execution_count": 127,
   "metadata": {
    "collapsed": false
   },
   "outputs": [
    {
     "name": "stdout",
     "output_type": "stream",
     "text": [
      "Generating batches for 8070 items, please wait...\n",
      "0 : 0\n",
      "Saving batch to pickle file...\n",
      "Batch saved in pickle file test/batch_0\n",
      "4096 : 4096\n",
      "Saving batch to pickle file...\n",
      "Batch saved in pickle file test/batch_4096\n",
      "2 batches generated and saved.\n"
     ]
    }
   ],
   "source": [
    "ibp.generate_batches(images, labels, batch_size=4096, batch_type='test')"
   ]
  },
  {
   "cell_type": "code",
   "execution_count": 132,
   "metadata": {
    "collapsed": true
   },
   "outputs": [],
   "source": [
    "labels = ibp.generate_one_hot_encoding([\"0\", \"1\", \"2\", \"3\", \"4\", \"5\", \"43\"])"
   ]
  },
  {
   "cell_type": "code",
   "execution_count": null,
   "metadata": {
    "collapsed": true
   },
   "outputs": [],
   "source": []
  }
 ],
 "metadata": {
  "anaconda-cloud": {},
  "kernelspec": {
   "display_name": "Python [conda env:py35]",
   "language": "python",
   "name": "conda-env-py35-py"
  },
  "language_info": {
   "codemirror_mode": {
    "name": "ipython",
    "version": 3
   },
   "file_extension": ".py",
   "mimetype": "text/x-python",
   "name": "python",
   "nbconvert_exporter": "python",
   "pygments_lexer": "ipython3",
   "version": "3.5.2"
  }
 },
 "nbformat": 4,
 "nbformat_minor": 1
}
